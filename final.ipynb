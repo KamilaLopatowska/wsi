{
 "cells": [
  {
   "cell_type": "markdown",
   "metadata": {},
   "source": [
    "## Model MRP produkcji gry karcianej"
   ]
  },
  {
   "cell_type": "code",
   "execution_count": 71,
   "metadata": {},
   "outputs": [],
   "source": [
    "from tabulate import tabulate"
   ]
  },
  {
   "cell_type": "markdown",
   "metadata": {},
   "source": [
    "##### Przykłady do testu"
   ]
  },
  {
   "cell_type": "markdown",
   "metadata": {},
   "source": [
    "1.\n",
    "Jest dość gier w magazynie. Zapotrzebowanie: 8. W magazynie: 10\n",
    "Trzeba jedynie określić czas, który zajmie dostarczenie gier, bo wszystkie są już w magazynie\n",
    "Więc większość warunków odpada\n",
    "\n",
    "2.\n",
    "Nie jest dość gier w magazynie. Zapotrzebowanie: 15. W magazynie: 10\n"
   ]
  },
  {
   "cell_type": "markdown",
   "metadata": {},
   "source": [
    "##### Ilość produktów potrzebnych na wskazany dzień"
   ]
  },
  {
   "cell_type": "code",
   "execution_count": 72,
   "metadata": {},
   "outputs": [],
   "source": [
    "\n",
    "ilosc = int(input(\"Podaj ilość gier, które potrzebujesz: \"))\n",
    "dzien = input(\"Podaj ile jest dni na realizację zamówienia (1-10): \")\n",
    "\n",
    "while ilosc <= 0:\n",
    "    ilosc = int(input(\"Podaj POPRAWNĄ (dodatnią) ilość gier, które potrzebujesz: \"))"
   ]
  },
  {
   "cell_type": "markdown",
   "metadata": {},
   "source": [
    "##### Określenie startowej dostępności"
   ]
  },
  {
   "cell_type": "code",
   "execution_count": 73,
   "metadata": {},
   "outputs": [],
   "source": [
    "dostepnosc_gra = int(input(\"Początkowa dostępność gry (w sztukach): \"))\n",
    "\n",
    "if dostepnosc_gra >= ilosc:\n",
    "    in_stock = True\n",
    "else:\n",
    "    in_stock = False\n",
    "    dostepnosc_opak = int(input(\"Początkowa dostępność opakowań (w sztukach): \"))\n",
    "    dostepnosc_kart = int(input(\"Początkowa dostępność zestawów kart (w sztukach): \"))\n",
    "    dostepnosc_karton = int(input(\"Początkowa dostępność kartonów (w sztukach): \"))\n",
    "    dostepnosc_plastik = int(input(\"Początkowa dostępność plastikowych części (w sztukach): \"))\n",
    "    gra_netto = ilosc - dostepnosc_gra"
   ]
  },
  {
   "cell_type": "markdown",
   "metadata": {},
   "source": [
    "##### Określenie czasu produkcji poszczególnych elementów"
   ]
  },
  {
   "cell_type": "code",
   "execution_count": 74,
   "metadata": {},
   "outputs": [],
   "source": [
    "if dostepnosc_gra >= ilosc:\n",
    "    in_stock = True\n",
    "else:\n",
    "    in_stock = False\n",
    "    czas_gra = int(input(\"Czas produkcji gry (w tygodniach): \"))\n",
    "    czas_opakowanie= int(input(\"Czas produkcji opakowania (w tygodniach): \"))\n",
    "    czas_karty =int(input(\"Czas produkcji zestawu kart (w tygodniach): \"))\n",
    "    czas_karton = int(input(\"Czas produkcji kartonu (w tygodniach): \"))\n",
    "    czas_plastik = int(input(\"Czas produkcji plastikowej części (w tygodniach): \"))"
   ]
  },
  {
   "cell_type": "markdown",
   "metadata": {},
   "source": [
    "##### Zależność w ilości między produktami różnych poziomów"
   ]
  },
  {
   "cell_type": "code",
   "execution_count": 75,
   "metadata": {},
   "outputs": [],
   "source": [
    "if dostepnosc_gra >= ilosc:\n",
    "    in_stock = True\n",
    "else:\n",
    "    in_stock = False\n",
    "    ile_opak = int(input(\"Ile opakowań potrzebujesz do jednej gry?\"))\n",
    "    ile_kart = int(input(\"Ile kart potrzebujesz do jednej gry?\"))\n",
    "    ile_karton =int(input(\"Ile kartonu potrzebujesz do jednego opakowania?\"))\n",
    "    ile_plastik = int(input(\"Ile plastiku potrzebujesz do jednego opakowania?\"))"
   ]
  },
  {
   "cell_type": "markdown",
   "metadata": {},
   "source": [
    "##### Sprawdzenie zapotrzebowania netto na produkty"
   ]
  },
  {
   "cell_type": "code",
   "execution_count": 76,
   "metadata": {},
   "outputs": [],
   "source": [
    "if in_stock == False:\n",
    "    \n",
    "    opak_netto = gra_netto*ile_opak - dostepnosc_opak\n",
    "    if opak_netto <= 0:\n",
    "        opak_netto = 0\n",
    "\n",
    "    karty_netto = gra_netto*ile_kart - dostepnosc_kart \n",
    "    if karty_netto <= 0:\n",
    "        karty_netto = 0\n",
    "\n",
    "    plastik_netto = opak_netto*ile_plastik - dostepnosc_plastik\n",
    "    if plastik_netto <= 0:\n",
    "        plastik_netto = 0\n",
    "    \n",
    "    karton_netto = opak_netto*ile_karton - dostepnosc_karton\n",
    "    if karton_netto <= 0:\n",
    "        karton_netto = 0\n"
   ]
  },
  {
   "cell_type": "markdown",
   "metadata": {},
   "source": [
    "##### Słowniki"
   ]
  },
  {
   "cell_type": "code",
   "execution_count": 77,
   "metadata": {},
   "outputs": [],
   "source": [
    "gra = {\"dzień\": [\"potrzeby brutto\", \"wstępny zapas\", \"potrzeby netto\", \"wstępne złożenie\", \"zaplanowany odbiór\"],\n",
    "        \"1\": [\"\",\"\",\"\",\"\",\"\"],\n",
    "        \"2\": [\"\",\"\",\"\",\"\",\"\"],\n",
    "        \"3\": [\"\",\"\",\"\",\"\",\"\"],\n",
    "        \"4\": [\"\",\"\",\"\",\"\",\"\"],\n",
    "        \"5\": [\"\",\"\",\"\",\"\",\"\"],\n",
    "        \"6\":[\"\",\"\",\"\",\"\",\"\"],\n",
    "        \"7\":[\"\",\"\",\"\",\"\",\"\"],\n",
    "        \"8\": [\"\",\"\",\"\",\"\",\"\"],\n",
    "        \"9\": [\"\",\"\",\"\",\"\",\"\"],\n",
    "        \"10\": [\"\",\"\",\"\",\"\",\"\"]}\n",
    "\n",
    "opakowanie = {\"dzień\": [\"potrzeby brutto\", \"wstępny zapas\", \"potrzeby netto\", \"zamówienie\", \"zaplanowany odbiór\"],\n",
    "        \"1\": [\"\",\"\",\"\",\"\",\"\"],\n",
    "        \"2\": [\"\",\"\",\"\",\"\",\"\"],\n",
    "        \"3\": [\"\",\"\",\"\",\"\",\"\"],\n",
    "        \"4\": [\"\",\"\",\"\",\"\",\"\"],\n",
    "        \"5\": [\"\",\"\",\"\",\"\",\"\"],\n",
    "        \"6\":[\"\",\"\",\"\",\"\",\"\"],\n",
    "        \"7\":[\"\",\"\",\"\",\"\",\"\"],\n",
    "        \"8\": [\"\",\"\",\"\",\"\",\"\"],\n",
    "        \"9\": [\"\",\"\",\"\",\"\",\"\"],\n",
    "        \"10\": [\"\",\"\",\"\",\"\",\"\"]}\n",
    "\n",
    "karty = {\"dzień\": [\"potrzeby brutto\", \"wstępny zapas\", \"potrzeby netto\", \"zamówienie\", \"zaplanowany odbiór\"],\n",
    "        \"1\": [\"\",\"\",\"\",\"\",\"\"],\n",
    "        \"2\": [\"\",\"\",\"\",\"\",\"\"],\n",
    "        \"3\": [\"\",\"\",\"\",\"\",\"\"],\n",
    "        \"4\": [\"\",\"\",\"\",\"\",\"\"],\n",
    "        \"5\": [\"\",\"\",\"\",\"\",\"\"],\n",
    "        \"6\":[\"\",\"\",\"\",\"\",\"\"],\n",
    "        \"7\":[\"\",\"\",\"\",\"\",\"\"],\n",
    "        \"8\": [\"\",\"\",\"\",\"\",\"\"],\n",
    "        \"9\": [\"\",\"\",\"\",\"\",\"\"],\n",
    "        \"10\": [\"\",\"\",\"\",\"\",\"\"]}\n",
    "\n",
    "karton = {\"dzień\": [\"potrzeby brutto\", \"wstępny zapas\", \"potrzeby netto\", \"zamówienie\", \"zaplanowany odbiór\"],\n",
    "        \"1\": [\"\",\"\",\"\",\"\",\"\"],\n",
    "        \"2\": [\"\",\"\",\"\",\"\",\"\"],\n",
    "        \"3\": [\"\",\"\",\"\",\"\",\"\"],\n",
    "        \"4\": [\"\",\"\",\"\",\"\",\"\"],\n",
    "        \"5\": [\"\",\"\",\"\",\"\",\"\"],\n",
    "        \"6\":[\"\",\"\",\"\",\"\",\"\"],\n",
    "        \"7\":[\"\",\"\",\"\",\"\",\"\"],\n",
    "        \"8\": [\"\",\"\",\"\",\"\",\"\"],\n",
    "        \"9\": [\"\",\"\",\"\",\"\",\"\"],\n",
    "        \"10\": [\"\",\"\",\"\",\"\",\"\"]}\n",
    "\n",
    "plastik = {\"dzień\": [\"potrzeby brutto\", \"wstępny zapas\", \"potrzeby netto\", \"zamówienie\", \"zaplanowany odbiór\"],\n",
    "        \"1\": [\"\",\"\",\"\",\"\",\"\"],\n",
    "        \"2\": [\"\",\"\",\"\",\"\",\"\"],\n",
    "        \"3\": [\"\",\"\",\"\",\"\",\"\"],\n",
    "        \"4\": [\"\",\"\",\"\",\"\",\"\"],\n",
    "        \"5\": [\"\",\"\",\"\",\"\",\"\"],\n",
    "        \"6\":[\"\",\"\",\"\",\"\",\"\"],\n",
    "        \"7\":[\"\",\"\",\"\",\"\",\"\"],\n",
    "        \"8\": [\"\",\"\",\"\",\"\",\"\"],\n",
    "        \"9\": [\"\",\"\",\"\",\"\",\"\"],\n",
    "        \"10\": [\"\",\"\",\"\",\"\",\"\"]}"
   ]
  },
  {
   "cell_type": "markdown",
   "metadata": {},
   "source": [
    "##### Tabele i ich wypełnienie"
   ]
  },
  {
   "cell_type": "code",
   "execution_count": 78,
   "metadata": {},
   "outputs": [
    {
     "name": "stdout",
     "output_type": "stream",
     "text": [
      "Poziom 0 - gra \n",
      "+--------------------+-----+-----+-----+-----+-----+-----+-----+-----+-----+------+\n",
      "| dzień              | 1   | 2   | 3   | 4   | 5   | 6   | 7   | 8   | 9   | 10   |\n",
      "+====================+=====+=====+=====+=====+=====+=====+=====+=====+=====+======+\n",
      "| potrzeby brutto    |     |     |     |     |     |     |     | 100 |     |      |\n",
      "+--------------------+-----+-----+-----+-----+-----+-----+-----+-----+-----+------+\n",
      "| wstępny zapas      | 80  | 80  | 80  | 80  | 80  | 80  | 80  | 80  |     |      |\n",
      "+--------------------+-----+-----+-----+-----+-----+-----+-----+-----+-----+------+\n",
      "| potrzeby netto     |     |     |     |     |     |     |     | 20  |     |      |\n",
      "+--------------------+-----+-----+-----+-----+-----+-----+-----+-----+-----+------+\n",
      "| wstępne złożenie   |     |     |     |     |     |     | 20  |     |     |      |\n",
      "+--------------------+-----+-----+-----+-----+-----+-----+-----+-----+-----+------+\n",
      "| zaplanowany odbiór |     |     |     |     |     |     |     | 20  |     |      |\n",
      "+--------------------+-----+-----+-----+-----+-----+-----+-----+-----+-----+------+\n",
      "\n",
      " Poziom 1 - opakowanie\n",
      "+--------------------+-----+-----+-----+-----+-----+-----+-----+-----+-----+------+\n",
      "| dzień              | 1   | 2   | 3   | 4   | 5   | 6   | 7   | 8   | 9   | 10   |\n",
      "+====================+=====+=====+=====+=====+=====+=====+=====+=====+=====+======+\n",
      "| potrzeby brutto    |     |     |     |     |     |     | 20  |     |     |      |\n",
      "+--------------------+-----+-----+-----+-----+-----+-----+-----+-----+-----+------+\n",
      "| wstępny zapas      | 40  | 40  | 40  | 40  | 40  | 40  | 40  |     |     |      |\n",
      "+--------------------+-----+-----+-----+-----+-----+-----+-----+-----+-----+------+\n",
      "| potrzeby netto     |     |     |     |     |     |     | 0   |     |     |      |\n",
      "+--------------------+-----+-----+-----+-----+-----+-----+-----+-----+-----+------+\n",
      "| zamówienie         |     |     |     |     | 0   |     |     |     |     |      |\n",
      "+--------------------+-----+-----+-----+-----+-----+-----+-----+-----+-----+------+\n",
      "| zaplanowany odbiór |     |     |     |     |     |     | 0   |     |     |      |\n",
      "+--------------------+-----+-----+-----+-----+-----+-----+-----+-----+-----+------+\n",
      "\n",
      "Poziom 1 - karty\n",
      "+--------------------+-----+-----+-----+-----+------+-----+------+-----+-----+------+\n",
      "| dzień              | 1   | 2   | 3   | 4   | 5    | 6   | 7    | 8   | 9   | 10   |\n",
      "+====================+=====+=====+=====+=====+======+=====+======+=====+=====+======+\n",
      "| potrzeby brutto    |     |     |     |     |      |     | 2280 |     |     |      |\n",
      "+--------------------+-----+-----+-----+-----+------+-----+------+-----+-----+------+\n",
      "| wstępny zapas      | 60  | 60  | 60  | 60  | 60   | 60  | 60   |     |     |      |\n",
      "+--------------------+-----+-----+-----+-----+------+-----+------+-----+-----+------+\n",
      "| potrzeby netto     |     |     |     |     |      |     | 2220 |     |     |      |\n",
      "+--------------------+-----+-----+-----+-----+------+-----+------+-----+-----+------+\n",
      "| zamówienie         |     |     |     |     | 2220 |     |      |     |     |      |\n",
      "+--------------------+-----+-----+-----+-----+------+-----+------+-----+-----+------+\n",
      "| zaplanowany odbiór |     |     |     |     |      |     | 2220 |     |     |      |\n",
      "+--------------------+-----+-----+-----+-----+------+-----+------+-----+-----+------+\n",
      "\n",
      "Poziom 2 - karton\n",
      "+--------------------+-----+-----+-----+-----+-----+-----+-----+-----+-----+------+\n",
      "| dzień              | 1   | 2   | 3   | 4   | 5   | 6   | 7   | 8   | 9   | 10   |\n",
      "+====================+=====+=====+=====+=====+=====+=====+=====+=====+=====+======+\n",
      "| potrzeby brutto    |     |     |     |     |     |     |     |     |     |      |\n",
      "+--------------------+-----+-----+-----+-----+-----+-----+-----+-----+-----+------+\n",
      "| wstępny zapas      | 4   | 4   | 4   | 4   | 4   |     |     |     |     |      |\n",
      "+--------------------+-----+-----+-----+-----+-----+-----+-----+-----+-----+------+\n",
      "| potrzeby netto     |     |     |     |     | 0   |     |     |     |     |      |\n",
      "+--------------------+-----+-----+-----+-----+-----+-----+-----+-----+-----+------+\n",
      "| zamówienie         |     |     |     | 0   |     |     |     |     |     |      |\n",
      "+--------------------+-----+-----+-----+-----+-----+-----+-----+-----+-----+------+\n",
      "| zaplanowany odbiór |     |     |     |     | 0   |     |     |     |     |      |\n",
      "+--------------------+-----+-----+-----+-----+-----+-----+-----+-----+-----+------+\n",
      "\n",
      "Poziom 2 - plastik\n",
      "+--------------------+-----+-----+-----+-----+-----+-----+-----+-----+-----+------+\n",
      "| dzień              | 1   | 2   | 3   | 4   | 5   | 6   | 7   | 8   | 9   | 10   |\n",
      "+====================+=====+=====+=====+=====+=====+=====+=====+=====+=====+======+\n",
      "| potrzeby brutto    |     |     |     |     |     |     |     |     |     |      |\n",
      "+--------------------+-----+-----+-----+-----+-----+-----+-----+-----+-----+------+\n",
      "| wstępny zapas      | 15  | 15  | 15  | 15  | 15  |     |     |     |     |      |\n",
      "+--------------------+-----+-----+-----+-----+-----+-----+-----+-----+-----+------+\n",
      "| potrzeby netto     |     |     |     |     | 0   |     |     |     |     |      |\n",
      "+--------------------+-----+-----+-----+-----+-----+-----+-----+-----+-----+------+\n",
      "| zamówienie         |     |     |     | 0   |     |     |     |     |     |      |\n",
      "+--------------------+-----+-----+-----+-----+-----+-----+-----+-----+-----+------+\n",
      "| zaplanowany odbiór |     |     |     |     | 0   |     |     |     |     |      |\n",
      "+--------------------+-----+-----+-----+-----+-----+-----+-----+-----+-----+------+\n"
     ]
    }
   ],
   "source": [
    "if in_stock == False:\n",
    "\n",
    "    try:\n",
    "    #databases\n",
    "\n",
    "        #poziom 0\n",
    "        gra[dzien][0] = ilosc\n",
    "\n",
    "        for i in range(1, int(dzien)+1):\n",
    "            gra[str(i)][1] = dostepnosc_gra\n",
    "\n",
    "        gra[dzien][2] = gra_netto\n",
    "\n",
    "        gra[str(int(dzien)-czas_gra)][3] = gra_netto\n",
    "\n",
    "        gra[dzien][4] = gra_netto\n",
    "\n",
    "\n",
    "        #poziom 1 - opakowanie\n",
    "        opakowanie[str(int(dzien)-czas_gra)][0] = (ilosc- dostepnosc_gra)*ile_opak\n",
    "\n",
    "        for i in range(1, int(dzien)-czas_gra+1):\n",
    "            opakowanie[str(i)][1] = dostepnosc_opak\n",
    "\n",
    "        opakowanie[str(int(dzien)-czas_gra)][2] = opak_netto\n",
    "\n",
    "        opakowanie[str(int(dzien)-czas_gra - czas_opakowanie)][3] = opak_netto\n",
    "\n",
    "        opakowanie[str(int(dzien)-czas_gra)][4] = opak_netto\n",
    "\n",
    "\n",
    "        #poziom 1 - karty\n",
    "        karty[str(int(dzien)-czas_gra)][0] = ile_kart*(ilosc-dostepnosc_gra)\n",
    "\n",
    "        for i in range(1, int(dzien)-czas_gra+1):\n",
    "            karty[str(i)][1] = dostepnosc_kart\n",
    "\n",
    "        karty[str(int(dzien)-czas_gra)][2] = karty_netto\n",
    "\n",
    "        karty[str(int(dzien)-czas_gra - czas_karty)][3] = karty_netto\n",
    "\n",
    "        karty[str(int(dzien)-czas_gra)][4] = karty_netto\n",
    "\n",
    "\n",
    "        #poziom 2 - karton\n",
    "        if ((ilosc- dostepnosc_gra)*ile_opak - dostepnosc_opak)*ile_karton <= 0:\n",
    "            karton[str(int(dzien)-czas_gra-czas_opakowanie)][0] = 0\n",
    "        else:\n",
    "            karton[str(int(dzien)-czas_gra-czas_opakowanie)][0] = ((ilosc- dostepnosc_gra)*ile_opak - dostepnosc_opak)*ile_karton\n",
    "\n",
    "        for i in range(1, int(dzien)-czas_opakowanie-czas_gra+1):\n",
    "            karton[str(i)][1] = dostepnosc_karton\n",
    "\n",
    "        karton[str(int(dzien)-czas_gra-czas_opakowanie)][2] = karton_netto\n",
    "\n",
    "        karton[str(int(dzien)-czas_gra-czas_opakowanie-czas_karton)][3] = karton_netto\n",
    "\n",
    "        karton[str(int(dzien)-czas_gra-czas_opakowanie)][4] = karton_netto\n",
    "    \n",
    "    \n",
    "        #poziom 2 - plastik\n",
    "        if ((ilosc- dostepnosc_gra)*ile_opak - dostepnosc_opak)*ile_plastik <= 0:\n",
    "            plastik[str(int(dzien)-czas_opakowanie-czas_gra)][0] = 0\n",
    "        else:\n",
    "            plastik[str(int(dzien)-czas_opakowanie-czas_gra)][0] = ((ilosc- dostepnosc_gra)*ile_opak - dostepnosc_opak)*ile_plastik\n",
    "\n",
    "        for i in range(1, int(dzien)-czas_opakowanie-czas_gra+1):\n",
    "            plastik[str(i)][1] = dostepnosc_plastik\n",
    "\n",
    "        plastik[str(int(dzien)-czas_opakowanie-czas_gra)][2] = plastik_netto\n",
    "\n",
    "        plastik[str(int(dzien)-czas_opakowanie-czas_gra-czas_plastik)][3] = plastik_netto\n",
    "\n",
    "        plastik[str(int(dzien)-czas_opakowanie-czas_gra)][4] = plastik_netto\n",
    "        \n",
    "\n",
    "        # tabele\n",
    "        poziom0 = tabulate(gra, headers = \"keys\", tablefmt=\"grid\")\n",
    "        poziom1_1 = tabulate(opakowanie, headers = \"keys\", tablefmt=\"grid\")\n",
    "        poziom1_2 = tabulate(karty, headers = \"keys\", tablefmt=\"grid\")\n",
    "        poziom2_1 = tabulate(karton, headers = \"keys\", tablefmt=\"grid\")\n",
    "        poziom2_2 = tabulate(plastik, headers = \"keys\", tablefmt=\"grid\")\n",
    "\n",
    "\n",
    "        #wyświetlanie wyniku\n",
    "        print(f'Poziom 0 - gra \\n{poziom0}\\n\\n Poziom 1 - opakowanie\\n{poziom1_1}\\n\\nPoziom 1 - karty\\n{poziom1_2}\\n\\nPoziom 2 - karton\\n{poziom2_1}\\n\\nPoziom 2 - plastik\\n{poziom2_2}')\n",
    "    except KeyError:\n",
    "        print(\"Nie da się wykonać zamówienia w podanym czasie\")\n",
    "else:\n",
    "    print(\"Zamówienie możliwe do wysłania/odebrania od zaraz\")"
   ]
  }
 ],
 "metadata": {
  "kernelspec": {
   "display_name": "Python 3",
   "language": "python",
   "name": "python3"
  },
  "language_info": {
   "codemirror_mode": {
    "name": "ipython",
    "version": 3
   },
   "file_extension": ".py",
   "mimetype": "text/x-python",
   "name": "python",
   "nbconvert_exporter": "python",
   "pygments_lexer": "ipython3",
   "version": "3.12.2"
  }
 },
 "nbformat": 4,
 "nbformat_minor": 2
}

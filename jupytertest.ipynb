{
 "cells": [
  {
   "cell_type": "markdown",
   "metadata": {},
   "source": [
    "## Model MRP produkcji gry karcianej"
   ]
  },
  {
   "cell_type": "code",
   "execution_count": 25,
   "metadata": {},
   "outputs": [],
   "source": [
    "from tabulate import tabulate"
   ]
  },
  {
   "cell_type": "markdown",
   "metadata": {},
   "source": [
    "##### Określenie czasu produkcji poszczególnych elementów"
   ]
  },
  {
   "cell_type": "code",
   "execution_count": 26,
   "metadata": {},
   "outputs": [],
   "source": [
    "czas_gra = 1 #int(input(\"Czas produkcji gry (w tygodniach): \"))\n",
    "czas_opakowanie = 1 #int(input(\"Czas produkcji opakowania (w tygodniach): \"))\n",
    "czas_karty = 1#int(input(\"Czas produkcji zestawu kart (w tygodniach): \"))\n",
    "czas_karton = 1 #int(input(\"Czas produkcji kartonu (w tygodniach): \"))\n",
    "czas_plastik = 1 #int(input(\"Czas produkcji plastikowej części (w tygodniach): \"))"
   ]
  },
  {
   "cell_type": "markdown",
   "metadata": {},
   "source": [
    "##### Określenie startowej dostępności"
   ]
  },
  {
   "cell_type": "code",
   "execution_count": 27,
   "metadata": {},
   "outputs": [],
   "source": [
    "dostepnosc_gra = 15 #int(input(\"Początkowa dostępność gry (w sztukach): \"))\n",
    "dostepnosc_opak = 0 #int(input(\"Początkowa dostępność opakowań (w sztukach): \"))\n",
    "dostepnosc_kart = 0 #int(input(\"Początkowa dostępność zestawów kart (w sztukach): \"))\n",
    "dostepnosc_karton = 0 #int(input(\"Początkowa dostępność kartonów (w sztukach): \"))\n",
    "dostepnosc_plastik = 0 #int(input(\"Początkowa dostępność plastikowych części (w sztukach): \"))"
   ]
  },
  {
   "cell_type": "markdown",
   "metadata": {},
   "source": [
    "##### Ilość produktów potrzebnych na wskazany dzień"
   ]
  },
  {
   "cell_type": "code",
   "execution_count": 28,
   "metadata": {},
   "outputs": [],
   "source": [
    "ilosc = int(input(\"Podaj ilość gier, które potrzebujesz: \"))\n",
    "dzien = input(\"Podaj ile jest dni na realizację zamówienia: \")"
   ]
  },
  {
   "cell_type": "markdown",
   "metadata": {},
   "source": [
    "##### Zależność w ilości między produktami różnych poziomów"
   ]
  },
  {
   "cell_type": "code",
   "execution_count": 29,
   "metadata": {},
   "outputs": [],
   "source": [
    "ile_opak = 1 #int(input(\"Ile opakowań potrzebujesz do jednej gry?\"))\n",
    "ile_kart = 20 #int(input(\"Ile kart potrzebujesz do jednej gry?\"))\n",
    "ile_karton = 4 #int(input(\"Ile kartonu potrzebujesz do jednego opakowania?\"))\n",
    "ile_plastik = 2 #int(input(\"Ile plastiku potrzebujesz do jednego opakowania?\"))"
   ]
  },
  {
   "cell_type": "markdown",
   "metadata": {},
   "source": [
    "##### Sprawdzenie zapotrzebowania netto na produkty"
   ]
  },
  {
   "cell_type": "code",
   "execution_count": 30,
   "metadata": {},
   "outputs": [],
   "source": [
    "gra_netto = ilosc - dostepnosc_gra  \n",
    "opak_netto = (ilosc- dostepnosc_gra)*ile_opak - dostepnosc_opak \n",
    "karty_netto = (ilosc - dostepnosc_gra)*ile_kart - dostepnosc_kart \n",
    "plastik_netto = (ilosc - dostepnosc_gra)*ile_opak - dostepnosc_opak*ile_plastik - dostepnosc_plastik \n",
    "karton_netto = (ilosc - dostepnosc_gra)*ile_opak - dostepnosc_opak*ile_karton - dostepnosc_karton"
   ]
  },
  {
   "cell_type": "markdown",
   "metadata": {},
   "source": [
    "##### Słowniki"
   ]
  },
  {
   "cell_type": "code",
   "execution_count": 31,
   "metadata": {},
   "outputs": [],
   "source": [
    "gra = {\"dzień\": [\"potrzeby brutto\", \"wstępny zapas\", \"potrzeby netto\", \"wstępne złożenie\", \"zaplanowany odbiór\"],\n",
    "        \"1\": [\"\",\"\",\"\",\"\",\"\"],\n",
    "        \"2\": [\"\",\"\",\"\",\"\",\"\"],\n",
    "        \"3\": [\"\",\"\",\"\",\"\",\"\"],\n",
    "        \"4\": [\"\",\"\",\"\",\"\",\"\"],\n",
    "        \"5\": [\"\",\"\",\"\",\"\",\"\"],\n",
    "        \"6\":[\"\",\"\",\"\",\"\",\"\"],\n",
    "        \"7\":[\"\",\"\",\"\",\"\",\"\"],\n",
    "        \"8\": [\"\",\"\",\"\",\"\",\"\"],\n",
    "        \"9\": [\"\",\"\",\"\",\"\",\"\"],\n",
    "        \"10\": [\"\",\"\",\"\",\"\",\"\"]}\n",
    "\n",
    "opakowanie = {\"dzień\": [\"potrzeby brutto\", \"wstępny zapas\", \"potrzeby netto\", \"zamówienie\", \"zaplanowany odbiór\"],\n",
    "        \"1\": [\"\",\"\",\"\",\"\",\"\"],\n",
    "        \"2\": [\"\",\"\",\"\",\"\",\"\"],\n",
    "        \"3\": [\"\",\"\",\"\",\"\",\"\"],\n",
    "        \"4\": [\"\",\"\",\"\",\"\",\"\"],\n",
    "        \"5\": [\"\",\"\",\"\",\"\",\"\"],\n",
    "        \"6\":[\"\",\"\",\"\",\"\",\"\"],\n",
    "        \"7\":[\"\",\"\",\"\",\"\",\"\"],\n",
    "        \"8\": [\"\",\"\",\"\",\"\",\"\"],\n",
    "        \"9\": [\"\",\"\",\"\",\"\",\"\"],\n",
    "        \"10\": [\"\",\"\",\"\",\"\",\"\"]}\n",
    "\n",
    "karty = {\"dzień\": [\"potrzeby brutto\", \"wstępny zapas\", \"potrzeby netto\", \"zamówienie\", \"zaplanowany odbiór\"],\n",
    "        \"1\": [\"\",\"\",\"\",\"\",\"\"],\n",
    "        \"2\": [\"\",\"\",\"\",\"\",\"\"],\n",
    "        \"3\": [\"\",\"\",\"\",\"\",\"\"],\n",
    "        \"4\": [\"\",\"\",\"\",\"\",\"\"],\n",
    "        \"5\": [\"\",\"\",\"\",\"\",\"\"],\n",
    "        \"6\":[\"\",\"\",\"\",\"\",\"\"],\n",
    "        \"7\":[\"\",\"\",\"\",\"\",\"\"],\n",
    "        \"8\": [\"\",\"\",\"\",\"\",\"\"],\n",
    "        \"9\": [\"\",\"\",\"\",\"\",\"\"],\n",
    "        \"10\": [\"\",\"\",\"\",\"\",\"\"]}\n",
    "\n",
    "karton = {\"dzień\": [\"potrzeby brutto\", \"wstępny zapas\", \"potrzeby netto\", \"zamówienie\", \"zaplanowany odbiór\"],\n",
    "        \"1\": [\"\",\"\",\"\",\"\",\"\"],\n",
    "        \"2\": [\"\",\"\",\"\",\"\",\"\"],\n",
    "        \"3\": [\"\",\"\",\"\",\"\",\"\"],\n",
    "        \"4\": [\"\",\"\",\"\",\"\",\"\"],\n",
    "        \"5\": [\"\",\"\",\"\",\"\",\"\"],\n",
    "        \"6\":[\"\",\"\",\"\",\"\",\"\"],\n",
    "        \"7\":[\"\",\"\",\"\",\"\",\"\"],\n",
    "        \"8\": [\"\",\"\",\"\",\"\",\"\"],\n",
    "        \"9\": [\"\",\"\",\"\",\"\",\"\"],\n",
    "        \"10\": [\"\",\"\",\"\",\"\",\"\"]}\n",
    "\n",
    "plastik = {\"dzień\": [\"potrzeby brutto\", \"wstępny zapas\", \"potrzeby netto\", \"zamówienie\", \"zaplanowany odbiór\"],\n",
    "        \"1\": [\"\",\"\",\"\",\"\",\"\"],\n",
    "        \"2\": [\"\",\"\",\"\",\"\",\"\"],\n",
    "        \"3\": [\"\",\"\",\"\",\"\",\"\"],\n",
    "        \"4\": [\"\",\"\",\"\",\"\",\"\"],\n",
    "        \"5\": [\"\",\"\",\"\",\"\",\"\"],\n",
    "        \"6\":[\"\",\"\",\"\",\"\",\"\"],\n",
    "        \"7\":[\"\",\"\",\"\",\"\",\"\"],\n",
    "        \"8\": [\"\",\"\",\"\",\"\",\"\"],\n",
    "        \"9\": [\"\",\"\",\"\",\"\",\"\"],\n",
    "        \"10\": [\"\",\"\",\"\",\"\",\"\"]}"
   ]
  },
  {
   "cell_type": "markdown",
   "metadata": {},
   "source": [
    "##### Tabele i ich wypełnienie"
   ]
  },
  {
   "cell_type": "code",
   "execution_count": 32,
   "metadata": {},
   "outputs": [
    {
     "name": "stdout",
     "output_type": "stream",
     "text": [
      "Poziom 0 - gra \n",
      "+--------------------+-----+-----+-----+-----+-----+-----+-----+-----+-----+------+\n",
      "| dzień              | 1   | 2   | 3   | 4   | 5   | 6   | 7   | 8   | 9   | 10   |\n",
      "+====================+=====+=====+=====+=====+=====+=====+=====+=====+=====+======+\n",
      "| potrzeby brutto    |     |     |     |     | 50  |     |     |     |     |      |\n",
      "+--------------------+-----+-----+-----+-----+-----+-----+-----+-----+-----+------+\n",
      "| wstępny zapas      | 15  | 15  | 15  | 15  | 15  |     |     |     |     |      |\n",
      "+--------------------+-----+-----+-----+-----+-----+-----+-----+-----+-----+------+\n",
      "| potrzeby netto     |     |     |     |     | 35  |     |     |     |     |      |\n",
      "+--------------------+-----+-----+-----+-----+-----+-----+-----+-----+-----+------+\n",
      "| wstępne złożenie   |     |     |     | 35  |     |     |     |     |     |      |\n",
      "+--------------------+-----+-----+-----+-----+-----+-----+-----+-----+-----+------+\n",
      "| zaplanowany odbiór |     |     |     |     | 50  |     |     |     |     |      |\n",
      "+--------------------+-----+-----+-----+-----+-----+-----+-----+-----+-----+------+\n",
      "\n",
      " Poziom 1 - opakowanie\n",
      "+--------------------+-----+-----+-----+-----+-----+-----+-----+-----+-----+------+\n",
      "| dzień              | 1   | 2   | 3   | 4   | 5   | 6   | 7   | 8   | 9   | 10   |\n",
      "+====================+=====+=====+=====+=====+=====+=====+=====+=====+=====+======+\n",
      "| potrzeby brutto    |     |     |     |     |     |     |     |     |     |      |\n",
      "+--------------------+-----+-----+-----+-----+-----+-----+-----+-----+-----+------+\n",
      "| wstępny zapas      |     |     |     |     |     |     |     |     |     |      |\n",
      "+--------------------+-----+-----+-----+-----+-----+-----+-----+-----+-----+------+\n",
      "| potrzeby netto     |     |     |     |     |     |     |     |     |     |      |\n",
      "+--------------------+-----+-----+-----+-----+-----+-----+-----+-----+-----+------+\n",
      "| zamówienie         |     |     | 35  |     |     |     |     |     |     |      |\n",
      "+--------------------+-----+-----+-----+-----+-----+-----+-----+-----+-----+------+\n",
      "| zaplanowany odbiór |     |     |     |     |     |     |     |     |     |      |\n",
      "+--------------------+-----+-----+-----+-----+-----+-----+-----+-----+-----+------+\n",
      "\n",
      "Poziom 1 - karty\n",
      "+--------------------+-----+-----+-----+-----+-----+-----+-----+-----+-----+------+\n",
      "| dzień              | 1   | 2   | 3   | 4   | 5   | 6   | 7   | 8   | 9   | 10   |\n",
      "+====================+=====+=====+=====+=====+=====+=====+=====+=====+=====+======+\n",
      "| potrzeby brutto    |     |     |     |     |     |     |     |     |     |      |\n",
      "+--------------------+-----+-----+-----+-----+-----+-----+-----+-----+-----+------+\n",
      "| wstępny zapas      |     |     |     |     |     |     |     |     |     |      |\n",
      "+--------------------+-----+-----+-----+-----+-----+-----+-----+-----+-----+------+\n",
      "| potrzeby netto     |     |     |     |     |     |     |     |     |     |      |\n",
      "+--------------------+-----+-----+-----+-----+-----+-----+-----+-----+-----+------+\n",
      "| zamówienie         |     |     | 700 |     |     |     |     |     |     |      |\n",
      "+--------------------+-----+-----+-----+-----+-----+-----+-----+-----+-----+------+\n",
      "| zaplanowany odbiór |     |     |     |     |     |     |     |     |     |      |\n",
      "+--------------------+-----+-----+-----+-----+-----+-----+-----+-----+-----+------+\n",
      "\n",
      "Poziom 2 - karton\n",
      "+--------------------+-----+-----+-----+-----+-----+-----+-----+-----+-----+------+\n",
      "| dzień              | 1   | 2   | 3   | 4   | 5   | 6   | 7   | 8   | 9   | 10   |\n",
      "+====================+=====+=====+=====+=====+=====+=====+=====+=====+=====+======+\n",
      "| potrzeby brutto    |     |     |     |     |     |     |     |     |     |      |\n",
      "+--------------------+-----+-----+-----+-----+-----+-----+-----+-----+-----+------+\n",
      "| wstępny zapas      |     |     |     |     |     |     |     |     |     |      |\n",
      "+--------------------+-----+-----+-----+-----+-----+-----+-----+-----+-----+------+\n",
      "| potrzeby netto     |     |     |     |     |     |     |     |     |     |      |\n",
      "+--------------------+-----+-----+-----+-----+-----+-----+-----+-----+-----+------+\n",
      "| zamówienie         |     | 140 |     |     |     |     |     |     |     |      |\n",
      "+--------------------+-----+-----+-----+-----+-----+-----+-----+-----+-----+------+\n",
      "| zaplanowany odbiór |     |     |     |     |     |     |     |     |     |      |\n",
      "+--------------------+-----+-----+-----+-----+-----+-----+-----+-----+-----+------+\n",
      "\n",
      "Poziom 2 - plastik\n",
      "+--------------------+-----+-----+-----+-----+-----+-----+-----+-----+-----+------+\n",
      "| dzień              | 1   | 2   | 3   | 4   | 5   | 6   | 7   | 8   | 9   | 10   |\n",
      "+====================+=====+=====+=====+=====+=====+=====+=====+=====+=====+======+\n",
      "| potrzeby brutto    |     |     |     |     |     |     |     |     |     |      |\n",
      "+--------------------+-----+-----+-----+-----+-----+-----+-----+-----+-----+------+\n",
      "| wstępny zapas      |     |     |     |     |     |     |     |     |     |      |\n",
      "+--------------------+-----+-----+-----+-----+-----+-----+-----+-----+-----+------+\n",
      "| potrzeby netto     |     |     |     |     |     |     |     |     |     |      |\n",
      "+--------------------+-----+-----+-----+-----+-----+-----+-----+-----+-----+------+\n",
      "| zamówienie         |     | 70  |     |     |     |     |     |     |     |      |\n",
      "+--------------------+-----+-----+-----+-----+-----+-----+-----+-----+-----+------+\n",
      "| zaplanowany odbiór |     |     |     |     |     |     |     |     |     |      |\n",
      "+--------------------+-----+-----+-----+-----+-----+-----+-----+-----+-----+------+\n"
     ]
    }
   ],
   "source": [
    "try:\n",
    "#databases\n",
    "    \n",
    "    gra[dzien][0] = ilosc\n",
    "    for i in range(1, int(dzien)+1):\n",
    "        gra[str(i)][1] = dostepnosc_gra\n",
    "    gra[dzien][2] = gra_netto\n",
    "    gra[str(int(dzien)-czas_gra)][3] = ilosc - dostepnosc_gra\n",
    "    gra[dzien][4] = ilosc\n",
    "\n",
    "   \n",
    "    opakowanie[str(int(dzien)-czas_gra-czas_opakowanie)][3] = (ilosc - dostepnosc_gra)*ile_opak - dostepnosc_opak\n",
    "\n",
    "\n",
    "    karty[str(int(dzien)-czas_gra-czas_karty)][3] = (ilosc - dostepnosc_gra)*ile_kart - dostepnosc_kart\n",
    "\n",
    "\n",
    "    karton[str(int(dzien)-czas_gra-czas_opakowanie-czas_karton)][3] = ((ilosc - dostepnosc_gra)*ile_opak - dostepnosc_opak)* ile_karton - dostepnosc_karton\n",
    "\n",
    "\n",
    "    plastik[str(int(dzien)-czas_gra-czas_opakowanie-czas_plastik)][3] = ((ilosc - dostepnosc_gra)*ile_opak - dostepnosc_opak)* ile_plastik - dostepnosc_plastik\n",
    "\n",
    "    # tabele\n",
    "\n",
    "    poziom0 = tabulate(gra, headers = \"keys\", tablefmt=\"grid\")\n",
    "    poziom1_1 = tabulate(opakowanie, headers = \"keys\", tablefmt=\"grid\")\n",
    "    poziom1_2 = tabulate(karty, headers = \"keys\", tablefmt=\"grid\")\n",
    "    poziom2_1 = tabulate(karton, headers = \"keys\", tablefmt=\"grid\")\n",
    "    poziom2_2 = tabulate(plastik, headers = \"keys\", tablefmt=\"grid\")\n",
    "\n",
    "    #wyświetlanie wyniku\n",
    "\n",
    "    print(f'Poziom 0 - gra \\n{poziom0}\\n\\n Poziom 1 - opakowanie\\n{poziom1_1}\\n\\nPoziom 1 - karty\\n{poziom1_2}\\n\\nPoziom 2 - karton\\n{poziom2_1}\\n\\nPoziom 2 - plastik\\n{poziom2_2}')\n",
    "except KeyError:\n",
    "    print(\"Nie da się wykonać zamówienia w podanym czasie\")"
   ]
  }
 ],
 "metadata": {
  "kernelspec": {
   "display_name": "Python 3",
   "language": "python",
   "name": "python3"
  },
  "language_info": {
   "codemirror_mode": {
    "name": "ipython",
    "version": 3
   },
   "file_extension": ".py",
   "mimetype": "text/x-python",
   "name": "python",
   "nbconvert_exporter": "python",
   "pygments_lexer": "ipython3",
   "version": "3.12.2"
  }
 },
 "nbformat": 4,
 "nbformat_minor": 2
}

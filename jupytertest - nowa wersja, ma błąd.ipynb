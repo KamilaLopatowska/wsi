{
 "cells": [
  {
   "cell_type": "markdown",
   "metadata": {},
   "source": [
    "## Model MRP produkcji gry karcianej"
   ]
  },
  {
   "cell_type": "code",
   "execution_count": null,
   "metadata": {},
   "outputs": [],
   "source": [
    "from tabulate import tabulate"
   ]
  },
  {
   "cell_type": "markdown",
   "metadata": {},
   "source": [
    "##### Przykłady do testu"
   ]
  },
  {
   "cell_type": "markdown",
   "metadata": {},
   "source": [
    "1.\n",
    "Jest dość gier w magazynie. Zapotrzebowanie: 10. W magazynie: 15\n",
    "Trzeba jedynie określić czas, który zajmie dostarczenie gier, bo wszystkie są już w magazynie\n",
    "Więc większość warunków odpada\n",
    "\n",
    "2.\n",
    "Nie jest dość gier w magazynie. Zapotrzebowanie: 20. W magazynie: 15"
   ]
  },
  {
   "cell_type": "markdown",
   "metadata": {},
   "source": [
    "##### Ilość produktów potrzebnych na wskazany dzień"
   ]
  },
  {
   "cell_type": "code",
   "execution_count": null,
   "metadata": {},
   "outputs": [],
   "source": [
    "ilosc = 0\n",
    "dzien = 0\n",
    "while ilosc == 0 or dzien == 0:\n",
    "    ilosc = int(input(\"Podaj ilość gier, które potrzebujesz: \"))\n",
    "    dzien = int(input(\"Podaj ile jest dni na realizację zamówienia: \"))"
   ]
  },
  {
   "cell_type": "markdown",
   "metadata": {},
   "source": [
    "##### Określenie startowej dostępności"
   ]
  },
  {
   "cell_type": "code",
   "execution_count": null,
   "metadata": {},
   "outputs": [],
   "source": [
    "dostepnosc_gra = 15 #int(input(\"Początkowa dostępność gry (w sztukach): \"))\n",
    "\n",
    "if dostepnosc_gra >= ilosc:\n",
    "    print(\"Przesyłka zostanie dostarczona na wskazany termin\")\n",
    "else:\n",
    "    dostepnosc_opak = 0 #int(input(\"Początkowa dostępność opakowań (w sztukach): \"))\n",
    "    dostepnosc_kart = 0 #int(input(\"Początkowa dostępność zestawów kart (w sztukach): \"))\n",
    "    dostepnosc_karton = 0 #int(input(\"Początkowa dostępność kartonów (w sztukach): \"))\n",
    "    dostepnosc_plastik = 0 #int(input(\"Początkowa dostępność plastikowych części (w sztukach): \"))\n",
    "    gra_netto = ilosc - dostepnosc_gra"
   ]
  },
  {
   "cell_type": "markdown",
   "metadata": {},
   "source": [
    "##### Określenie czasu produkcji poszczególnych elementów"
   ]
  },
  {
   "cell_type": "code",
   "execution_count": null,
   "metadata": {},
   "outputs": [],
   "source": [
    "czas_gra = 1 #int(input(\"Czas produkcji gry (w tygodniach): \"))\n",
    "czas_opakowanie = 1 #int(input(\"Czas produkcji opakowania (w tygodniach): \"))\n",
    "czas_karty = 1#int(input(\"Czas produkcji zestawu kart (w tygodniach): \"))\n",
    "czas_karton = 1 #int(input(\"Czas produkcji kartonu (w tygodniach): \"))\n",
    "czas_plastik = 1 #int(input(\"Czas produkcji plastikowej części (w tygodniach): \"))"
   ]
  },
  {
   "cell_type": "markdown",
   "metadata": {},
   "source": [
    "##### Zależność w ilości między produktami różnych poziomów"
   ]
  },
  {
   "cell_type": "markdown",
   "metadata": {},
   "source": [
    "1 gra - 52 karty, 1 pudełko (1 karton i 1 plastik)"
   ]
  },
  {
   "cell_type": "code",
   "execution_count": null,
   "metadata": {},
   "outputs": [],
   "source": [
    "ile_opak = gra_netto\n",
    "ile_karton = ile_opak\n",
    "ile_plastik = ile_opak\n",
    "\n",
    "ile_kart = ile_opak * 52\n",
    "\n",
    "print(ile_opak)\n",
    "print(ile_karton)\n",
    "print(ile_plastik)\n",
    "print(ile_kart)"
   ]
  },
  {
   "cell_type": "code",
   "execution_count": null,
   "metadata": {},
   "outputs": [],
   "source": [
    "\"\"\"\n",
    "ile_opak = 1 #int(input(\"Ile opakowań potrzebujesz do jednej gry?\"))\n",
    "ile_kart = 20 #int(input(\"Ile kart potrzebujesz do jednej gry?\"))\n",
    "ile_karton = 4 #int(input(\"Ile kartonu potrzebujesz do jednego opakowania?\"))\n",
    "ile_plastik = 2 #int(input(\"Ile plastiku potrzebujesz do jednego opakowania?\"))\n",
    "\"\"\""
   ]
  },
  {
   "cell_type": "markdown",
   "metadata": {},
   "source": [
    "##### Sprawdzenie zapotrzebowania netto na produkty"
   ]
  },
  {
   "cell_type": "code",
   "execution_count": null,
   "metadata": {},
   "outputs": [],
   "source": [
    "opak_netto = abs(ile_opak - dostepnosc_opak)\n",
    "karty_netto = abs(ile_kart - dostepnosc_kart)\n",
    "plastik_netto = abs(ile_plastik - dostepnosc_plastik)\n",
    "karton_netto = abs(ile_karton - dostepnosc_karton)"
   ]
  },
  {
   "cell_type": "markdown",
   "metadata": {},
   "source": [
    "##### Słowniki"
   ]
  },
  {
   "cell_type": "code",
   "execution_count": null,
   "metadata": {},
   "outputs": [],
   "source": [
    "gra = {\"dzień\": [\"potrzeby brutto\", \"wstępny zapas\", \"potrzeby netto\", \"wstępne złożenie\", \"zaplanowany odbiór\"],\n",
    "        \"1\": [\"\",\"\",\"\",\"\",\"\"],\n",
    "        \"2\": [\"\",\"\",\"\",\"\",\"\"],\n",
    "        \"3\": [\"\",\"\",\"\",\"\",\"\"],\n",
    "        \"4\": [\"\",\"\",\"\",\"\",\"\"],\n",
    "        \"5\": [\"\",\"\",\"\",\"\",\"\"],\n",
    "        \"6\":[\"\",\"\",\"\",\"\",\"\"],\n",
    "        \"7\":[\"\",\"\",\"\",\"\",\"\"],\n",
    "        \"8\": [\"\",\"\",\"\",\"\",\"\"],\n",
    "        \"9\": [\"\",\"\",\"\",\"\",\"\"],\n",
    "        \"10\": [\"\",\"\",\"\",\"\",\"\"]}\n",
    "\n",
    "opakowanie = {\"dzień\": [\"potrzeby brutto\", \"wstępny zapas\", \"potrzeby netto\", \"zamówienie\", \"zaplanowany odbiór\"],\n",
    "        \"1\": [\"\",\"\",\"\",\"\",\"\"],\n",
    "        \"2\": [\"\",\"\",\"\",\"\",\"\"],\n",
    "        \"3\": [\"\",\"\",\"\",\"\",\"\"],\n",
    "        \"4\": [\"\",\"\",\"\",\"\",\"\"],\n",
    "        \"5\": [\"\",\"\",\"\",\"\",\"\"],\n",
    "        \"6\":[\"\",\"\",\"\",\"\",\"\"],\n",
    "        \"7\":[\"\",\"\",\"\",\"\",\"\"],\n",
    "        \"8\": [\"\",\"\",\"\",\"\",\"\"],\n",
    "        \"9\": [\"\",\"\",\"\",\"\",\"\"],\n",
    "        \"10\": [\"\",\"\",\"\",\"\",\"\"]}\n",
    "\n",
    "karty = {\"dzień\": [\"potrzeby brutto\", \"wstępny zapas\", \"potrzeby netto\", \"zamówienie\", \"zaplanowany odbiór\"],\n",
    "        \"1\": [\"\",\"\",\"\",\"\",\"\"],\n",
    "        \"2\": [\"\",\"\",\"\",\"\",\"\"],\n",
    "        \"3\": [\"\",\"\",\"\",\"\",\"\"],\n",
    "        \"4\": [\"\",\"\",\"\",\"\",\"\"],\n",
    "        \"5\": [\"\",\"\",\"\",\"\",\"\"],\n",
    "        \"6\":[\"\",\"\",\"\",\"\",\"\"],\n",
    "        \"7\":[\"\",\"\",\"\",\"\",\"\"],\n",
    "        \"8\": [\"\",\"\",\"\",\"\",\"\"],\n",
    "        \"9\": [\"\",\"\",\"\",\"\",\"\"],\n",
    "        \"10\": [\"\",\"\",\"\",\"\",\"\"]}\n",
    "\n",
    "karton = {\"dzień\": [\"potrzeby brutto\", \"wstępny zapas\", \"potrzeby netto\", \"zamówienie\", \"zaplanowany odbiór\"],\n",
    "        \"1\": [\"\",\"\",\"\",\"\",\"\"],\n",
    "        \"2\": [\"\",\"\",\"\",\"\",\"\"],\n",
    "        \"3\": [\"\",\"\",\"\",\"\",\"\"],\n",
    "        \"4\": [\"\",\"\",\"\",\"\",\"\"],\n",
    "        \"5\": [\"\",\"\",\"\",\"\",\"\"],\n",
    "        \"6\":[\"\",\"\",\"\",\"\",\"\"],\n",
    "        \"7\":[\"\",\"\",\"\",\"\",\"\"],\n",
    "        \"8\": [\"\",\"\",\"\",\"\",\"\"],\n",
    "        \"9\": [\"\",\"\",\"\",\"\",\"\"],\n",
    "        \"10\": [\"\",\"\",\"\",\"\",\"\"]}\n",
    "\n",
    "plastik = {\"dzień\": [\"potrzeby brutto\", \"wstępny zapas\", \"potrzeby netto\", \"zamówienie\", \"zaplanowany odbiór\"],\n",
    "        \"1\": [\"\",\"\",\"\",\"\",\"\"],\n",
    "        \"2\": [\"\",\"\",\"\",\"\",\"\"],\n",
    "        \"3\": [\"\",\"\",\"\",\"\",\"\"],\n",
    "        \"4\": [\"\",\"\",\"\",\"\",\"\"],\n",
    "        \"5\": [\"\",\"\",\"\",\"\",\"\"],\n",
    "        \"6\":[\"\",\"\",\"\",\"\",\"\"],\n",
    "        \"7\":[\"\",\"\",\"\",\"\",\"\"],\n",
    "        \"8\": [\"\",\"\",\"\",\"\",\"\"],\n",
    "        \"9\": [\"\",\"\",\"\",\"\",\"\"],\n",
    "        \"10\": [\"\",\"\",\"\",\"\",\"\"]}"
   ]
  },
  {
   "cell_type": "markdown",
   "metadata": {},
   "source": [
    "##### Tabele i ich wypełnienie"
   ]
  },
  {
   "cell_type": "code",
   "execution_count": 106,
   "metadata": {},
   "outputs": [
    {
     "name": "stdout",
     "output_type": "stream",
     "text": [
      "Nie da się wykonać zamówienia w podanym czasie\n"
     ]
    }
   ],
   "source": [
    "try:\n",
    "#databases\n",
    "\n",
    "    #poziom 0\n",
    "\n",
    "    gra[dzien][0] = ilosc\n",
    "    for i in range(1, int(dzien)+1):\n",
    "        gra[str(i)][1] = dostepnosc_gra\n",
    "    gra[dzien][2] = abs(gra_netto)\n",
    "    gra[str(int(dzien)-czas_gra)][3] = abs(ilosc - dostepnosc_gra)\n",
    "    gra[dzien][4] = ilosc\n",
    "\n",
    "    \n",
    "    #poziom 1\n",
    "   \n",
    "    opakowanie[str(int(dzien)-czas_gra-czas_opakowanie)][3] = (ilosc - dostepnosc_gra)*ile_opak - dostepnosc_opak\n",
    "\n",
    "    karty[str(int(dzien)-czas_gra-czas_karty)][3] = (ilosc - dostepnosc_gra)*ile_kart - dostepnosc_kart\n",
    "\n",
    "    #poziom 2\n",
    "\n",
    "    karton[str(int(dzien)-czas_gra-czas_opakowanie-czas_karton)][3] = ((ilosc - dostepnosc_gra)*ile_opak - dostepnosc_opak)* ile_karton - dostepnosc_karton\n",
    "\n",
    "    plastik[str(int(dzien)-czas_gra-czas_opakowanie-czas_plastik)][3] = ((ilosc - dostepnosc_gra)*ile_opak - dostepnosc_opak)* ile_plastik - dostepnosc_plastik\n",
    "\n",
    "    # tabele\n",
    "\n",
    "    poziom0 = tabulate(gra, headers = \"keys\", tablefmt=\"grid\")\n",
    "    poziom1_1 = tabulate(opakowanie, headers = \"keys\", tablefmt=\"grid\")\n",
    "    poziom1_2 = tabulate(karty, headers = \"keys\", tablefmt=\"grid\")\n",
    "    poziom2_1 = tabulate(karton, headers = \"keys\", tablefmt=\"grid\")\n",
    "    poziom2_2 = tabulate(plastik, headers = \"keys\", tablefmt=\"grid\")\n",
    "\n",
    "    #wyświetlanie wyniku\n",
    "    \n",
    "\n",
    "    print(f'Poziom 0 - gra \\n{poziom0}\\n\\n Poziom 1 - opakowanie\\n{poziom1_1}\\n\\nPoziom 1 - karty\\n{poziom1_2}\\n\\nPoziom 2 - karton\\n{poziom2_1}\\n\\nPoziom 2 - plastik\\n{poziom2_2}')\n",
    "except KeyError:\n",
    "    print(\"Nie da się wykonać zamówienia w podanym czasie\")"
   ]
  }
 ],
 "metadata": {
  "kernelspec": {
   "display_name": "Python 3",
   "language": "python",
   "name": "python3"
  },
  "language_info": {
   "codemirror_mode": {
    "name": "ipython",
    "version": 3
   },
   "file_extension": ".py",
   "mimetype": "text/x-python",
   "name": "python",
   "nbconvert_exporter": "python",
   "pygments_lexer": "ipython3",
   "version": "3.12.0"
  }
 },
 "nbformat": 4,
 "nbformat_minor": 2
}
